{
 "cells": [
  {
   "cell_type": "code",
   "execution_count": 1,
   "metadata": {},
   "outputs": [
    {
     "name": "stderr",
     "output_type": "stream",
     "text": [
      "/usr/lib/python3.5/importlib/_bootstrap.py:222: RuntimeWarning: numpy.dtype size changed, may indicate binary incompatibility. Expected 96, got 88\n",
      "  return f(*args, **kwds)\n",
      "/usr/lib/python3.5/importlib/_bootstrap.py:222: RuntimeWarning: numpy.dtype size changed, may indicate binary incompatibility. Expected 96, got 88\n",
      "  return f(*args, **kwds)\n"
     ]
    }
   ],
   "source": [
    "import tensorflow as tf\n",
    "import numpy as np\n",
    "import os\n",
    "import sys\n",
    "from decodercell import DecoderCell"
   ]
  },
  {
   "cell_type": "code",
   "execution_count": 2,
   "metadata": {},
   "outputs": [],
   "source": [
    "input_vocab_size = 30000\n",
    "output_vocab_size = 30005\n",
    "input_ph = tf.placeholder(dtype=tf.float32, shape=[64, None, input_vocab_size])\n",
    "output_ph = tf.placeholder(dtype=tf.float32, shape=[64, None, output_vocab_size])"
   ]
  },
  {
   "cell_type": "code",
   "execution_count": 3,
   "metadata": {},
   "outputs": [],
   "source": [
    "batch_size = tf.cast(tf.shape(input_ph)[0], tf.int32)\n",
    "seq_length = tf.cast(tf.shape(input_ph)[1], tf.int32)"
   ]
  },
  {
   "cell_type": "code",
   "execution_count": 4,
   "metadata": {},
   "outputs": [],
   "source": [
    "input_embedding_size = 650\n",
    "W_input_embedding = tf.Variable(tf.random_normal([input_vocab_size, input_embedding_size], stddev=0.001))\n",
    "b_input_embedding = tf.Variable(tf.random_normal([input_embedding_size], stddev=0.001))"
   ]
  },
  {
   "cell_type": "code",
   "execution_count": 5,
   "metadata": {},
   "outputs": [],
   "source": [
    "encoder_gru_size = 1024\n",
    "encoder_gru_fw = tf.nn.rnn_cell.GRUCell(encoder_gru_size)\n",
    "encoder_gru_bw = tf.nn.rnn_cell.GRUCell(encoder_gru_size)"
   ]
  },
  {
   "cell_type": "code",
   "execution_count": 6,
   "metadata": {},
   "outputs": [],
   "source": [
    "decoder_gru_size = 1152\n",
    "#decoder_gru_tuple = tf.nn.rnn_cell.GRUCell(decoder_gru_size)"
   ]
  },
  {
   "cell_type": "code",
   "execution_count": 7,
   "metadata": {},
   "outputs": [],
   "source": [
    "input_2d = tf.reshape(input_ph, [-1, input_vocab_size])\n",
    "embedded_input_2d = tf.nn.relu(tf.matmul(input_2d, W_input_embedding) + b_input_embedding)\n",
    "embedded_input_3d = tf.reshape(embedded_input_2d, [batch_size, seq_length, input_vocab_size])"
   ]
  },
  {
   "cell_type": "code",
   "execution_count": 8,
   "metadata": {},
   "outputs": [],
   "source": [
    "# [h_fw, h_bw]\n",
    "bidirect_encoder_states, _ = tf.nn.bidirectional_dynamic_rnn(encoder_gru_fw, encoder_gru_bw, embedded_input_3d, dtype=tf.float32)\n",
    "#help(tf.nn.bidirectional_dynamic_rnn)"
   ]
  },
  {
   "cell_type": "code",
   "execution_count": 9,
   "metadata": {},
   "outputs": [
    {
     "name": "stdout",
     "output_type": "stream",
     "text": [
      "Tensor(\"Shape_2:0\", shape=(3,), dtype=int32)\n",
      "Tensor(\"Shape_3:0\", shape=(3,), dtype=int32)\n"
     ]
    }
   ],
   "source": [
    "print(tf.shape(bidirect_encoder_states[0]))\n",
    "print(tf.shape(bidirect_encoder_states[1]))"
   ]
  },
  {
   "cell_type": "code",
   "execution_count": 10,
   "metadata": {},
   "outputs": [],
   "source": [
    "output_embedding_size = input_embedding_size"
   ]
  },
  {
   "cell_type": "code",
   "execution_count": 11,
   "metadata": {},
   "outputs": [
    {
     "name": "stdout",
     "output_type": "stream",
     "text": [
      "1.9.0-rc0\n",
      "(<tf.Tensor 'bidirectional_rnn/fw/fw/transpose_1:0' shape=(?, ?, 1024) dtype=float32>, <tf.Tensor 'ReverseV2:0' shape=(?, ?, 1024) dtype=float32>)\n"
     ]
    }
   ],
   "source": [
    "print(tf.__version__)\n",
    "print(bidirect_encoder_states)"
   ]
  },
  {
   "cell_type": "code",
   "execution_count": 12,
   "metadata": {},
   "outputs": [
    {
     "name": "stdout",
     "output_type": "stream",
     "text": [
      "encoder output:  Tensor(\"concat:0\", shape=(?, ?, 2048), dtype=float32)\n"
     ]
    }
   ],
   "source": [
    "thing = DecoderCell(encoder_gru_size*2, decoder_gru_size, tf.concat(bidirect_encoder_states, axis=-1))"
   ]
  },
  {
   "cell_type": "code",
   "execution_count": 13,
   "metadata": {
    "scrolled": false
   },
   "outputs": [
    {
     "name": "stdout",
     "output_type": "stream",
     "text": [
      "attention_d:  Tensor(\"rnn/while/decoder_cell/Tanh:0\", shape=(?, ?, 512), dtype=float32)\n",
      "attention_e:  Tensor(\"rnn/while/decoder_cell/einsum/transpose_2:0\", shape=(?, ?), dtype=float32)\n",
      "gru state size:  1152\n",
      "gru output size:  1152\n",
      "array_ops.concat([context, y_prev]):  Tensor(\"rnn/while/decoder_cell/concat:0\", shape=(?, 2668), dtype=float32)\n",
      "state_true:  Tensor(\"rnn/while/Identity_3:0\", shape=(?, 1152), dtype=float32)\n",
      "gru state:  Tensor(\"rnn/while/decoder_cell/gru_cell/add:0\", shape=(?, 1152), dtype=float32)\n"
     ]
    }
   ],
   "source": [
    "thing_output, _ = tf.nn.dynamic_rnn(thing, embedded_input_3d, dtype=tf.float32)"
   ]
  },
  {
   "cell_type": "code",
   "execution_count": 14,
   "metadata": {},
   "outputs": [],
   "source": [
    "a = np.random.rand(30002)"
   ]
  },
  {
   "cell_type": "code",
   "execution_count": 15,
   "metadata": {},
   "outputs": [
    {
     "data": {
      "text/plain": [
       "(30002,)"
      ]
     },
     "execution_count": 15,
     "metadata": {},
     "output_type": "execute_result"
    }
   ],
   "source": [
    "a.shape"
   ]
  },
  {
   "cell_type": "code",
   "execution_count": 17,
   "metadata": {},
   "outputs": [],
   "source": [
    "b = a/np.sum(a)"
   ]
  },
  {
   "cell_type": "code",
   "execution_count": 18,
   "metadata": {},
   "outputs": [
    {
     "data": {
      "text/plain": [
       "1.0"
      ]
     },
     "execution_count": 18,
     "metadata": {},
     "output_type": "execute_result"
    }
   ],
   "source": [
    "np.sum(b)"
   ]
  },
  {
   "cell_type": "code",
   "execution_count": 19,
   "metadata": {},
   "outputs": [
    {
     "data": {
      "text/plain": [
       "array([3.05682386e-05, 5.10167527e-05, 5.90540277e-05, ...,\n",
       "       3.35547923e-05, 4.23000651e-05, 4.48985801e-05])"
      ]
     },
     "execution_count": 19,
     "metadata": {},
     "output_type": "execute_result"
    }
   ],
   "source": [
    "b"
   ]
  },
  {
   "cell_type": "code",
   "execution_count": 20,
   "metadata": {},
   "outputs": [
    {
     "data": {
      "text/plain": [
       "23687"
      ]
     },
     "execution_count": 20,
     "metadata": {},
     "output_type": "execute_result"
    }
   ],
   "source": [
    "b.argmax()"
   ]
  },
  {
   "cell_type": "code",
   "execution_count": 21,
   "metadata": {},
   "outputs": [
    {
     "data": {
      "text/plain": [
       "6.674773254680515e-05"
      ]
     },
     "execution_count": 21,
     "metadata": {},
     "output_type": "execute_result"
    }
   ],
   "source": [
    "b[b.argmax()]"
   ]
  },
  {
   "cell_type": "code",
   "execution_count": 25,
   "metadata": {},
   "outputs": [],
   "source": [
    "c = np.exp(100*a)/np.sum(np.exp(100*a))"
   ]
  },
  {
   "cell_type": "code",
   "execution_count": 26,
   "metadata": {},
   "outputs": [
    {
     "data": {
      "text/plain": [
       "23687"
      ]
     },
     "execution_count": 26,
     "metadata": {},
     "output_type": "execute_result"
    }
   ],
   "source": [
    "c.argmax()"
   ]
  },
  {
   "cell_type": "code",
   "execution_count": 27,
   "metadata": {},
   "outputs": [
    {
     "data": {
      "text/plain": [
       "0.003246000642831474"
      ]
     },
     "execution_count": 27,
     "metadata": {},
     "output_type": "execute_result"
    }
   ],
   "source": [
    "c[c.argmax()]"
   ]
  },
  {
   "cell_type": "code",
   "execution_count": 28,
   "metadata": {},
   "outputs": [
    {
     "data": {
      "text/plain": [
       "1.2147140872837425e-46"
      ]
     },
     "execution_count": 28,
     "metadata": {},
     "output_type": "execute_result"
    }
   ],
   "source": [
    "c[c.argmin()]"
   ]
  },
  {
   "cell_type": "code",
   "execution_count": null,
   "metadata": {},
   "outputs": [],
   "source": []
  }
 ],
 "metadata": {
  "kernelspec": {
   "display_name": "Python 3",
   "language": "python",
   "name": "python3"
  },
  "language_info": {
   "codemirror_mode": {
    "name": "ipython",
    "version": 3
   },
   "file_extension": ".py",
   "mimetype": "text/x-python",
   "name": "python",
   "nbconvert_exporter": "python",
   "pygments_lexer": "ipython3",
   "version": "3.5.2"
  }
 },
 "nbformat": 4,
 "nbformat_minor": 2
}

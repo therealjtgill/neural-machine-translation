{
 "cells": [
  {
   "cell_type": "code",
   "execution_count": 1,
   "metadata": {},
   "outputs": [
    {
     "name": "stderr",
     "output_type": "stream",
     "text": [
      "/usr/lib/python3.5/importlib/_bootstrap.py:222: RuntimeWarning: numpy.dtype size changed, may indicate binary incompatibility. Expected 96, got 88\n",
      "  return f(*args, **kwds)\n",
      "/usr/lib/python3.5/importlib/_bootstrap.py:222: RuntimeWarning: numpy.dtype size changed, may indicate binary incompatibility. Expected 96, got 88\n",
      "  return f(*args, **kwds)\n"
     ]
    }
   ],
   "source": [
    "import tensorflow as tf\n",
    "import numpy as np\n",
    "import os\n",
    "import sys"
   ]
  },
  {
   "cell_type": "code",
   "execution_count": 2,
   "metadata": {},
   "outputs": [],
   "source": [
    "input_vocab_size = 30000\n",
    "output_vocab_size = 30005\n",
    "input_ph = tf.placeholder(dtype=tf.float32, shape=[None, None, input_vocab_size])\n",
    "output_ph = tf.placeholder(dtype=tf.float32, shape=[None, None, output_vocab_size])"
   ]
  },
  {
   "cell_type": "code",
   "execution_count": 3,
   "metadata": {},
   "outputs": [],
   "source": [
    "batch_size = tf.cast(tf.shape(input_ph)[0], tf.int32)\n",
    "seq_length = tf.cast(tf.shape(input_ph)[1], tf.int32)"
   ]
  },
  {
   "cell_type": "code",
   "execution_count": 6,
   "metadata": {},
   "outputs": [],
   "source": [
    "input_embedding_size = 650\n",
    "W_input_embedding = tf.Variable(tf.random_normal([input_vocab_size, input_embedding_size], stddev=0.001))\n",
    "b_input_embedding = tf.Variable(tf.random_normal([input_embedding_size], stddev=0.001))"
   ]
  },
  {
   "cell_type": "code",
   "execution_count": 14,
   "metadata": {},
   "outputs": [],
   "source": [
    "encoder_gru_size = 1024\n",
    "encoder_gru_fw = tf.nn.rnn_cell.GRUCell(encoder_gru_size)\n",
    "encoder_gru_bw = tf.nn.rnn_cell.GRUCell(encoder_gru_size)"
   ]
  },
  {
   "cell_type": "code",
   "execution_count": 13,
   "metadata": {},
   "outputs": [],
   "source": [
    "decoder_gru_size = 1152\n",
    "decoder_gru = tf.nn.rnn_cell.GRUCell(decoder_gru_size)"
   ]
  },
  {
   "cell_type": "code",
   "execution_count": 22,
   "metadata": {},
   "outputs": [],
   "source": [
    "input_2d = tf.reshape(input_ph, [-1, input_vocab_size])\n",
    "embedded_input_2d = tf.nn.relu(tf.matmul(input_2d, W_input_embedding) + b_input_embedding)\n",
    "embedded_input_3d = tf.reshape(embedded_input_2d, [batch_size, seq_length, input_vocab_size])"
   ]
  },
  {
   "cell_type": "code",
   "execution_count": 24,
   "metadata": {},
   "outputs": [],
   "source": [
    "# [h_fw, h_bw]\n",
    "bidirect_encoder_states, _ = tf.nn.bidirectional_dynamic_rnn(encoder_gru_fw, encoder_gru_bw, embedded_input_3d, dtype=tf.float32)\n",
    "#help(tf.nn.bidirectional_dynamic_rnn)"
   ]
  },
  {
   "cell_type": "code",
   "execution_count": 28,
   "metadata": {},
   "outputs": [
    {
     "name": "stdout",
     "output_type": "stream",
     "text": [
      "Tensor(\"Shape_5:0\", shape=(3,), dtype=int32)\n",
      "Tensor(\"Shape_6:0\", shape=(3,), dtype=int32)\n"
     ]
    }
   ],
   "source": [
    "print(tf.shape(bidirect_encoder_states[0]))\n",
    "print(tf.shape(bidirect_encoder_states[1]))"
   ]
  },
  {
   "cell_type": "code",
   "execution_count": 29,
   "metadata": {},
   "outputs": [],
   "source": [
    "output_embedding_size = input_embedding_size"
   ]
  },
  {
   "cell_type": "code",
   "execution_count": 30,
   "metadata": {},
   "outputs": [
    {
     "data": {
      "text/plain": [
       "'1.9.0-rc0'"
      ]
     },
     "execution_count": 30,
     "metadata": {},
     "output_type": "execute_result"
    }
   ],
   "source": [
    "tf.__version__"
   ]
  },
  {
   "cell_type": "code",
   "execution_count": null,
   "metadata": {},
   "outputs": [],
   "source": []
  }
 ],
 "metadata": {
  "kernelspec": {
   "display_name": "Python 3",
   "language": "python",
   "name": "python3"
  },
  "language_info": {
   "codemirror_mode": {
    "name": "ipython",
    "version": 3
   },
   "file_extension": ".py",
   "mimetype": "text/x-python",
   "name": "python",
   "nbconvert_exporter": "python",
   "pygments_lexer": "ipython3",
   "version": "3.5.2"
  }
 },
 "nbformat": 4,
 "nbformat_minor": 2
}
